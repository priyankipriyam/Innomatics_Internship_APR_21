{
 "cells": [
  {
   "cell_type": "code",
   "execution_count": null,
   "metadata": {},
   "outputs": [],
   "source": [
    "#swap_case\n",
    "\n",
    "def swap_case(s):\n",
    "    result = ''\n",
    "    for i in range(len(s)):\n",
    "        if s[i].islower():\n",
    "            result += s[i].upper()\n",
    "        elif s[i].isupper():\n",
    "            result += s[i].lower()\n",
    "        else:\n",
    "            result += s[i]\n",
    "    return(result)\n",
    "    \n",
    "     \n",
    "\n",
    "if __name__ == '__main__':\n",
    "    s = input()\n",
    "    result = swap_case(s)\n",
    "    print(result)"
   ]
  },
  {
   "cell_type": "code",
   "execution_count": null,
   "metadata": {},
   "outputs": [],
   "source": [
    "#split_and_join\n",
    "\n",
    "def split_and_join(line):\n",
    "    a = line.split()\n",
    "    b ='-'.join(a)\n",
    "    return(b)\n",
    "\n",
    "if __name__ == '__main__':\n",
    "    line = input()\n",
    "    result = split_and_join(line)\n",
    "    print(result)"
   ]
  },
  {
   "cell_type": "code",
   "execution_count": null,
   "metadata": {},
   "outputs": [],
   "source": [
    "#what's_your_name\n",
    "\n",
    "def print_full_name(first, last):\n",
    "    f = str(first)\n",
    "    l = str(last)\n",
    "    return(print(\"Hello \" + f + \" \" + l + \"! You just delved into python.\"))\n",
    "if __name__ == '__main__':\n",
    "    first_name = input()\n",
    "    last_name = input()\n",
    "    print_full_name(first_name, last_name)"
   ]
  },
  {
   "cell_type": "code",
   "execution_count": null,
   "metadata": {},
   "outputs": [],
   "source": [
    "#mutations\n",
    "\n",
    "def mutate_string(string, position, character):\n",
    "    l = list(string)\n",
    "    l[position] = character\n",
    "    string = string[:position] + l[position] + string[position+1 :] \n",
    "    return(string)\n",
    "\n",
    "if __name__ == '__main__':\n",
    "    s = input()\n",
    "    i, c = input().split()\n",
    "    s_new = mutate_string(s, int(i), c)\n",
    "    print(s_new)"
   ]
  },
  {
   "cell_type": "code",
   "execution_count": null,
   "metadata": {},
   "outputs": [],
   "source": [
    "#string_validators\n",
    "\n",
    "if __name__ == '__main__':\n",
    "    s = input()\n",
    "    print(any(letter.isalnum() for letter in s))\n",
    "    print(any(letter.isalpha() for letter in s))\n",
    "    print(any(letter.isdigit() for letter in s))\n",
    "    print(any(letter.islower() for letter in s))\n",
    "    print(any(letter.isupper() for letter in s))"
   ]
  },
  {
   "cell_type": "code",
   "execution_count": null,
   "metadata": {},
   "outputs": [],
   "source": [
    "#text_allignment\n",
    "\n",
    "thickness = int(input()) #This must be an odd number\n",
    "c = 'H'\n",
    "\n",
    "#Top Cone\n",
    "for i in range(thickness):\n",
    "    print((c*i).rjust(thickness-1)+c+(c*i).ljust(thickness-1))\n",
    "\n",
    "#Top Pillars\n",
    "for i in range(thickness+1):\n",
    "    print((c*thickness).center(thickness*2)+(c*thickness).center(thickness*6))\n",
    "\n",
    "#Middle Belt\n",
    "for i in range((thickness+1)//2):\n",
    "    print((c*thickness*5).center(thickness*6))    \n",
    "\n",
    "#Bottom Pillars\n",
    "for i in range(thickness+1):\n",
    "    print((c*thickness).center(thickness*2)+(c*thickness).center(thickness*6))    \n",
    "\n",
    "#Bottom Cone\n",
    "for i in range(thickness):\n",
    "    print(((c*(thickness-i-1)).rjust(thickness)+c+(c*(thickness-i-1)).ljust(thickness)).rjust(thickness*6))"
   ]
  },
  {
   "cell_type": "code",
   "execution_count": null,
   "metadata": {},
   "outputs": [],
   "source": [
    "#text_wrap\n",
    "\n",
    "import textwrap\n",
    "sub_string = list()\n",
    "def wrap(string, max_width):\n",
    "    for i in range(0, len(string), max_width):\n",
    "        sub_string.append(string[i:i+max_width])\n",
    "    return(\"\\n\".join(sub_string))\n",
    "    \n",
    "if __name__ == '__main__':\n",
    "    string, max_width = input(), int(input())\n",
    "    result = wrap(string, max_width)\n",
    "    print(result)"
   ]
  },
  {
   "cell_type": "code",
   "execution_count": null,
   "metadata": {},
   "outputs": [],
   "source": [
    "#find_a_string\n",
    "\n",
    "def count_substring(string, sub_string):\n",
    "    count = 0\n",
    "    for i in range(len(string)-len(sub_string)+1):\n",
    "        if string[i:].startswith(sub_string):\n",
    "            count += 1\n",
    "    return(count)\n",
    "\n",
    "if __name__ == '__main__':\n",
    "    string = input().strip()\n",
    "    sub_string = input().strip()\n",
    "    \n",
    "    count = count_substring(string, sub_string)\n",
    "    print(count)"
   ]
  },
  {
   "cell_type": "code",
   "execution_count": null,
   "metadata": {},
   "outputs": [],
   "source": [
    "#designer_door_mat\n",
    "\n",
    "N,m =map(int, input().split()) \n",
    "n = N//2\n",
    "pattern = [(\".|.\"*(2*i+1)).center(m,'-') for i in range(n)]\n",
    "print(\"\\n\".join(pattern + ['WELCOME'.center(m,'-')] + pattern[::-1]))"
   ]
  },
  {
   "cell_type": "code",
   "execution_count": null,
   "metadata": {},
   "outputs": [],
   "source": [
    "#string_formatting\n",
    "\n",
    "def print_formatted(number):\n",
    "    w = number.bit_length()\n",
    "    for i in range(1, number+1):\n",
    "        print(f\"{i:{w}d} {i:{w}o} {i:{w}X} {i:{w}b}\")       \n",
    "    return(0)\n",
    "\n",
    "if __name__ == '__main__':\n",
    "    n = int(input())\n",
    "    print_formatted(n)"
   ]
  },
  {
   "cell_type": "code",
   "execution_count": null,
   "metadata": {},
   "outputs": [],
   "source": [
    "#alphabet_rangoli\n",
    "\n",
    "def print_rangoli(size):\n",
    "    letters = 'abcdefghijklmnopqrstuvwxyz'\n",
    "    w = 4*size-3\n",
    "    for i in range(size-1,-size,-1):\n",
    "        string = '-'.join(letters[size-1:abs(i):-1]+letters[abs(i):size])\n",
    "        print(string.center(w,'-'))\n",
    "    return\n",
    "\n",
    "if __name__ == '__main__':\n",
    "    n = int(input())\n",
    "    print_rangoli(n)"
   ]
  },
  {
   "cell_type": "code",
   "execution_count": null,
   "metadata": {},
   "outputs": [],
   "source": [
    "#capitalize\n",
    "\n",
    "def solve(s):\n",
    "    for i in s[:].split():\n",
    "            s = s.replace(i,i.capitalize())\n",
    "    return(s)\n",
    "\n",
    "if __name__ == '__main__':\n",
    "    fptr = open(os.environ['OUTPUT_PATH'], 'w')\n",
    "\n",
    "    s = input()\n",
    "\n",
    "    result = solve(s)\n",
    "\n",
    "    fptr.write(result + '\\n')\n",
    "\n",
    "    fptr.close()"
   ]
  },
  {
   "cell_type": "code",
   "execution_count": null,
   "metadata": {},
   "outputs": [],
   "source": [
    "#minion_game\n",
    "\n",
    "def minion_game(string):\n",
    "\n",
    "    vowels = 'AEIOU'\n",
    "    k_score = 0\n",
    "    s_score = 0\n",
    "    for i in range(len(string)):\n",
    "        if string[i] in vowels:\n",
    "            k_score += len(string) - i\n",
    "        else:\n",
    "            s_score += len(string) - i\n",
    "    if k_score > s_score:\n",
    "        print(\"Kevin\", k_score)\n",
    "    elif k_score < s_score:\n",
    "        print(\"Stuart\", s_score)\n",
    "    else:\n",
    "        print(\"Draw\")\n",
    "    \n",
    "    return\n",
    "\n",
    "if __name__ == '__main__':\n",
    "    s = input()\n",
    "    minion_game(s)"
   ]
  },
  {
   "cell_type": "code",
   "execution_count": null,
   "metadata": {},
   "outputs": [],
   "source": [
    "#merge_the_tools\n",
    "\n",
    "def merge_the_tools(string, k):\n",
    "    for i in range(0,len(string),k):\n",
    "        sub_string = string[i:i+k]\n",
    "        list1 = \"\"\n",
    "        for e in sub_string:\n",
    "            if e not in list1:\n",
    "                list1 += e\n",
    "        print(list1)\n",
    "    return\n",
    "\n",
    "if __name__ == '__main__':\n",
    "    string, k = input(), int(input())\n",
    "    merge_the_tools(string, k)"
   ]
  }
 ],
 "metadata": {
  "kernelspec": {
   "display_name": "Python 3",
   "language": "python",
   "name": "python3"
  },
  "language_info": {
   "codemirror_mode": {
    "name": "ipython",
    "version": 3
   },
   "file_extension": ".py",
   "mimetype": "text/x-python",
   "name": "python",
   "nbconvert_exporter": "python",
   "pygments_lexer": "ipython3",
   "version": "3.8.5"
  }
 },
 "nbformat": 4,
 "nbformat_minor": 4
}

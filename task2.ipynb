{
 "metadata": {
  "language_info": {
   "codemirror_mode": {
    "name": "ipython",
    "version": 3
   },
   "file_extension": ".py",
   "mimetype": "text/x-python",
   "name": "python",
   "nbconvert_exporter": "python",
   "pygments_lexer": "ipython3",
   "version": "3.9.1"
  },
  "orig_nbformat": 2,
  "kernelspec": {
   "name": "python391jvsc74a57bd07812ea015bdcee6f23a998adcdd2ef97c151c0c241b7b7070987d9313e41299d",
   "display_name": "Python 3.9.1 64-bit"
  },
  "metadata": {
   "interpreter": {
    "hash": "7812ea015bdcee6f23a998adcdd2ef97c151c0c241b7b7070987d9313e41299d"
   }
  }
 },
 "nbformat": 4,
 "nbformat_minor": 2,
 "cells": [
  {
   "cell_type": "code",
   "execution_count": null,
   "metadata": {},
   "outputs": [],
   "source": [
    "# List Comprehensions\n",
    "x = int(input())\n",
    "y = int(input())\n",
    "z = int(input())\n",
    "n = int(input())\n",
    "\n",
    "print([[a,b,c] for a in range(x+1) for b in range(y+1) for c in range(z+1) if a+b+c!=n])\n"
   ]
  },
  {
   "cell_type": "code",
   "execution_count": null,
   "metadata": {},
   "outputs": [],
   "source": [
    "# Find the Runner-Up Score!\n",
    "n = int(input())\n",
    "arr = map(int, input().split())\n",
    "l = list(set(arr))\n",
    "l.sort()\n",
    "print(l[-2])"
   ]
  },
  {
   "cell_type": "code",
   "execution_count": 17,
   "metadata": {},
   "outputs": [
    {
     "output_type": "stream",
     "name": "stdout",
     "text": [
      "berry\nharry\n"
     ]
    }
   ],
   "source": [
    "# nested list\n",
    "scoreBoard = []\n",
    "for _ in range(int(input())):\n",
    "    name = input()\n",
    "    score = float(input())\n",
    "    scoreBoard.append([name,score])\n",
    "\n",
    "scores = sorted(list(set((score for name, score in scoreBoard))))\n",
    "\n",
    "second_highest_score = scores[1]\n",
    "print(\"\\n\".join(sorted(name for name, score in scoreBoard if score == second_highest_score)))"
   ]
  },
  {
   "cell_type": "code",
   "execution_count": null,
   "metadata": {},
   "outputs": [],
   "source": [
    "# finding the percentage\n",
    "n = int(input())\n",
    "student_marks = {}\n",
    "for _ in range(n):\n",
    "    name, *line = input().split()\n",
    "    scores = list(map(float, line))\n",
    "    student_marks[name] = scores\n",
    "query_name = input()\n",
    "\n",
    "sum = 0\n",
    "\n",
    "marks_query = ([marks for name, marks in student_marks.items() if name==query_name][0])\n",
    "for mark in marks_query:\n",
    "    sum+=mark\n",
    "print(\"{:.2f}\".format(sum/3))"
   ]
  },
  {
   "cell_type": "code",
   "execution_count": null,
   "metadata": {},
   "outputs": [],
   "source": [
    "# list\n",
    "arr = []\n",
    "N = int(input())\n",
    "for _ in range(N):\n",
    "    cmd = input().split()\n",
    "    if(cmd[0]==\"insert\"):\n",
    "        arr.insert(int(cmd[1]), int(cmd[2]))\n",
    "    elif(cmd[0]==\"print\"):\n",
    "        print(arr)\n",
    "    elif(cmd[0]==\"remove\"):\n",
    "        arr.remove(int(cmd[1]))\n",
    "    elif(cmd[0]==\"append\"):\n",
    "        arr.append(int(cmd[1]))\n",
    "    elif(cmd[0]==\"sort\"):\n",
    "        arr.sort()\n",
    "    elif(cmd[0]==\"pop\"):\n",
    "        arr.pop()\n",
    "    elif(cmd[0]==\"reverse\"):\n",
    "        arr.reverse()"
   ]
  },
  {
   "cell_type": "code",
   "execution_count": 19,
   "metadata": {},
   "outputs": [
    {
     "output_type": "stream",
     "name": "stdout",
     "text": [
      "-3550055125485641917\n"
     ]
    }
   ],
   "source": [
    "# tuple\n",
    "n = int(input())\n",
    "integer_list = map(int, input().split())\n",
    "\n",
    "t = tuple(integer_list)\n",
    "\n",
    "print(hash(t))"
   ]
  },
  {
   "cell_type": "code",
   "execution_count": null,
   "metadata": {},
   "outputs": [],
   "source": [
    "# introduction to set\n",
    "def average(array):\n",
    "    set1 = set(array)\n",
    "    sumHeight = sum(set1)\n",
    "    return sumHeight/len(set1)\n",
    "    \n",
    "if __name__ == '__main__':\n",
    "    n = int(input())\n",
    "    arr = list(map(int, input().split()))\n",
    "    result = average(arr)\n",
    "    print(result)"
   ]
  },
  {
   "cell_type": "code",
   "execution_count": null,
   "metadata": {},
   "outputs": [],
   "source": [
    "# no idea!\n",
    "n,m = input().split()\n",
    "arr = list(map(int, input().split()))\n",
    "A = set(map(int, input().split()))\n",
    "B = set(map(int, input().split()))\n",
    "\n",
    "arrSet = set(arr)\n",
    "happiness = 0\n",
    "\n",
    "for e in arr:\n",
    "    if(e in A):\n",
    "        happiness+=1\n",
    "    if(e in B):\n",
    "        happiness-=1\n",
    "print(happiness)"
   ]
  },
  {
   "cell_type": "code",
   "execution_count": null,
   "metadata": {},
   "outputs": [],
   "source": [
    "# symmetric difference\n",
    "M = input()\n",
    "a = set(map(int, input().split()))\n",
    "N = input()\n",
    "b = set(map(int, input().split()))\n",
    "\n",
    "diff = sorted(a.symmetric_difference(b))\n",
    "\n",
    "for e in diff:\n",
    "    print(e)"
   ]
  },
  {
   "cell_type": "code",
   "execution_count": null,
   "metadata": {},
   "outputs": [],
   "source": [
    "#set .add()\n",
    "stamps = set()\n",
    "N = int(input())\n",
    "for _ in range(N):\n",
    "    stamps.add(input())\n",
    "\n",
    "print(len(stamps))"
   ]
  },
  {
   "cell_type": "code",
   "execution_count": null,
   "metadata": {},
   "outputs": [],
   "source": [
    "# Set .discard(), .remove() & .pop()\n",
    "n = int(input())\n",
    "s = set(map(int, input().split()))\n",
    "cmdN = int(input())\n",
    "for _ in range(cmdN):\n",
    "    cmd = input().split()\n",
    "    if(cmd[0]==\"pop\"):\n",
    "        s.pop()\n",
    "    elif(cmd[0]==\"remove\"):\n",
    "        s.remove(int(cmd[1]))\n",
    "    elif(cmd[0]==\"discard\"):\n",
    "        s.discard(int(cmd[1]))\n",
    "print(sum(s))\n",
    "    "
   ]
  },
  {
   "cell_type": "code",
   "execution_count": null,
   "metadata": {},
   "outputs": [],
   "source": [
    "# set .union()\n",
    "n = int(input())\n",
    "s = set(map(int, input().split()))\n",
    "b = int(input())\n",
    "sF = set(map(int, input().split()))\n",
    "\n",
    "print(len(s.union(sF)))\n"
   ]
  },
  {
   "cell_type": "code",
   "execution_count": null,
   "metadata": {},
   "outputs": [],
   "source": [
    "#set .intesection()\n",
    "n = int(input())\n",
    "s = set(map(int, input().split()))\n",
    "b = int(input())\n",
    "sF = set(map(int, input().split()))\n",
    "\n",
    "print(len(s.intersection(sF)))\n"
   ]
  },
  {
   "cell_type": "code",
   "execution_count": null,
   "metadata": {},
   "outputs": [],
   "source": [
    "# set .difference()\n",
    "n = int(input())\n",
    "s = set(map(int, input().split()))\n",
    "b = int(input())\n",
    "sF = set(map(int, input().split()))\n",
    "\n",
    "print(len(s.difference(sF)))\n"
   ]
  },
  {
   "cell_type": "code",
   "execution_count": null,
   "metadata": {},
   "outputs": [],
   "source": [
    "# set .symmetric_differnce\n",
    "n = int(input())\n",
    "s = set(map(int, input().split()))\n",
    "b = int(input())\n",
    "sF = set(map(int, input().split()))\n",
    "\n",
    "print(len(s.symmetric_difference(sF)))\n"
   ]
  },
  {
   "cell_type": "code",
   "execution_count": null,
   "metadata": {},
   "outputs": [],
   "source": [
    "# set mutation\n",
    "s1N = int(input())\n",
    "s1 = set(map(int, input().split()))\n",
    "cmdN = int(input())\n",
    "for _ in range(cmdN):\n",
    "    cmd = input().split()\n",
    "    if(cmd[0]==\"intersection_update\"):\n",
    "        sTemp = set(map(int, input().split()))\n",
    "        s1.intersection_update(sTemp)\n",
    "    elif(cmd[0]==\"update\"):\n",
    "        sTemp = set(map(int, input().split()))\n",
    "        s1.update(sTemp)\n",
    "    elif(cmd[0]==\"symmetric_difference_update\"):\n",
    "        sTemp = set(map(int, input().split()))\n",
    "        s1.symmetric_difference_update(sTemp)\n",
    "    elif(cmd[0]==\"difference_update\"):\n",
    "        sTemp = set(map(int, input().split()))\n",
    "        s1.difference_update(sTemp)\n",
    "print(sum(s1))\n"
   ]
  },
  {
   "cell_type": "code",
   "execution_count": 21,
   "metadata": {},
   "outputs": [
    {
     "output_type": "error",
     "ename": "ValueError",
     "evalue": "invalid literal for int() with base 10: ''",
     "traceback": [
      "\u001b[0;31m---------------------------------------------------------------------------\u001b[0m",
      "\u001b[0;31mValueError\u001b[0m                                Traceback (most recent call last)",
      "\u001b[0;32m<ipython-input-21-e462b8d55a44>\u001b[0m in \u001b[0;36m<module>\u001b[0;34m\u001b[0m\n\u001b[1;32m      1\u001b[0m \u001b[0;31m# captain room\u001b[0m\u001b[0;34m\u001b[0m\u001b[0;34m\u001b[0m\u001b[0;34m\u001b[0m\u001b[0m\n\u001b[0;32m----> 2\u001b[0;31m \u001b[0mK\u001b[0m \u001b[0;34m=\u001b[0m \u001b[0mint\u001b[0m\u001b[0;34m(\u001b[0m\u001b[0minput\u001b[0m\u001b[0;34m(\u001b[0m\u001b[0;34m)\u001b[0m\u001b[0;34m)\u001b[0m\u001b[0;34m\u001b[0m\u001b[0;34m\u001b[0m\u001b[0m\n\u001b[0m\u001b[1;32m      3\u001b[0m \u001b[0mroom_list\u001b[0m \u001b[0;34m=\u001b[0m \u001b[0msorted\u001b[0m\u001b[0;34m(\u001b[0m\u001b[0mlist\u001b[0m\u001b[0;34m(\u001b[0m\u001b[0minput\u001b[0m\u001b[0;34m(\u001b[0m\u001b[0;34m)\u001b[0m\u001b[0;34m.\u001b[0m\u001b[0msplit\u001b[0m\u001b[0;34m(\u001b[0m\u001b[0;34m)\u001b[0m\u001b[0;34m)\u001b[0m\u001b[0;34m)\u001b[0m\u001b[0;34m\u001b[0m\u001b[0;34m\u001b[0m\u001b[0m\n\u001b[1;32m      4\u001b[0m \u001b[0;34m\u001b[0m\u001b[0m\n\u001b[1;32m      5\u001b[0m \u001b[0;32mfor\u001b[0m \u001b[0mi\u001b[0m \u001b[0;32min\u001b[0m \u001b[0mrange\u001b[0m\u001b[0;34m(\u001b[0m\u001b[0mlen\u001b[0m\u001b[0;34m(\u001b[0m\u001b[0mroom_list\u001b[0m\u001b[0;34m)\u001b[0m\u001b[0;34m)\u001b[0m\u001b[0;34m:\u001b[0m\u001b[0;34m\u001b[0m\u001b[0;34m\u001b[0m\u001b[0m\n",
      "\u001b[0;31mValueError\u001b[0m: invalid literal for int() with base 10: ''"
     ]
    }
   ],
   "source": [
    "# captain room\n",
    "K = int(input())\n",
    "room_list = sorted(list(input().split()))\n",
    "\n",
    "for i in range(len(room_list)):\n",
    "    if(i != len(room_list)-1):\n",
    "        if(room_list[i]!=room_list[i-1] and room_list[i]!=room_list[i+1]):\n",
    "            print(room_list[i])\n",
    "            break;\n",
    "    else:\n",
    "        print(room_list[i])"
   ]
  },
  {
   "cell_type": "code",
   "execution_count": null,
   "metadata": {},
   "outputs": [],
   "source": [
    "# check subset\n",
    "T = int(input())\n",
    "for _ in range(T):\n",
    "    ALen = int(input())\n",
    "    A = set(input().split())\n",
    "    BLen = int(input())\n",
    "    B = set(input().split())\n",
    "    print(A.issubset(B))"
   ]
  },
  {
   "cell_type": "code",
   "execution_count": null,
   "metadata": {},
   "outputs": [],
   "source": [
    "# strict superset\n",
    "s1 = set(input().split())\n",
    "N = int(input())\n",
    "isCheck = True;\n",
    "for _ in range(N):\n",
    "    s2 = set(input().split())\n",
    "    if not s2.issubset(s1):\n",
    "        isCheck = False\n",
    "    if len(s2) >= len(s1):\n",
    "        isCheck = False\n",
    "print(isCheck)"
   ]
  }
 ]
}
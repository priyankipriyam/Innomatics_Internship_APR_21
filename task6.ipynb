{
 "cells": [
  {
   "cell_type": "code",
   "execution_count": null,
   "metadata": {},
   "outputs": [],
   "source": [
    "#arrays\n",
    "\n",
    "import numpy\n",
    "\n",
    "def arrays(arr):\n",
    "    rev = numpy.array(arr[::-1], float)\n",
    "    return(rev)\n",
    "arr = input().strip().split(' ')\n",
    "result = arrays(arr)\n",
    "print(result)"
   ]
  },
  {
   "cell_type": "code",
   "execution_count": null,
   "metadata": {},
   "outputs": [],
   "source": [
    "#shape_and_reshape\n",
    "\n",
    "import numpy\n",
    "arr = input().split()\n",
    "my_arr = numpy.array(arr, int)\n",
    "print (numpy.reshape(my_arr, (3,3)))"
   ]
  },
  {
   "cell_type": "code",
   "execution_count": null,
   "metadata": {},
   "outputs": [],
   "source": [
    "#transpose_and_flatten\n",
    "\n",
    "import numpy as np\n",
    "n,m = map(int, input().split())\n",
    "a1 = []\n",
    "for i in range(n):\n",
    "    array1 = input().strip().split()\n",
    "    arr = np.array(array1, int)\n",
    "    a1.append(arr)\n",
    "a1 = np.array(a1)\n",
    "print(a1.transpose())\n",
    "print(a1.flatten())"
   ]
  },
  {
   "cell_type": "code",
   "execution_count": null,
   "metadata": {},
   "outputs": [],
   "source": [
    "#concatenate\n",
    "\n",
    "import numpy as np\n",
    "n,m,p = map(int, input().split())\n",
    "arr_1 = np.array([input().split() for i in range(n)], int)\n",
    "arr_2 = np.array([input().split() for i in range(m)], int)\n",
    "arr = np.concatenate((arr_1, arr_2), axis = 0)\n",
    "print(arr)"
   ]
  },
  {
   "cell_type": "code",
   "execution_count": null,
   "metadata": {},
   "outputs": [],
   "source": [
    "#zeros_and_ones\n",
    "\n",
    "import numpy as np\n",
    "dimensions = list((map(int, input().split())))\n",
    "print(np.zeros((dimensions), dtype = np.int))\n",
    "print(np.ones((dimensions), dtype = np.int))"
   ]
  },
  {
   "cell_type": "code",
   "execution_count": null,
   "metadata": {},
   "outputs": [],
   "source": [
    "#eye_and_identity\n",
    "\n",
    "import numpy as np\n",
    "np.set_printoptions(legacy = '1.13')\n",
    "a, b = map(int, input().split())\n",
    "print(np.eye(a, b, k = 0))"
   ]
  },
  {
   "cell_type": "code",
   "execution_count": null,
   "metadata": {},
   "outputs": [],
   "source": [
    "#Array_Mathematics\n",
    "\n",
    "import numpy as np\n",
    "\n",
    "n, m = map(int, input().split())\n",
    "\n",
    "a = np.array([input().split() for i in range(n)], int)\n",
    "b = np.array([input().split() for i in range(n)], int)\n",
    "print(a+b, a-b, a*b, a//b, a%b, a**b, sep='\\n')"
   ]
  },
  {
   "cell_type": "code",
   "execution_count": null,
   "metadata": {},
   "outputs": [],
   "source": [
    "#sum_and_prod\n",
    "\n",
    "import numpy as np\n",
    "n, m = map(int, input().split())\n",
    "arr = np.array([input().split()  for i in range(n)], int)\n",
    "arr.reshape(n,m)\n",
    "summation = np.sum(arr, axis = 0)\n",
    "product = np.prod(summation, axis = 0)\n",
    "print(product)"
   ]
  },
  {
   "cell_type": "code",
   "execution_count": 7,
   "metadata": {},
   "outputs": [
    {
     "name": "stdout",
     "output_type": "stream",
     "text": [
      "1.1 2.2 3.3 4.4 5.5 6.6 7.7 8.8 9.9\n",
      "[ 1.  2.  3.  4.  5.  6.  7.  8.  9.]\n",
      "[  2.   3.   4.   5.   6.   7.   8.   9.  10.]\n",
      "[  1.   2.   3.   4.   6.   7.   8.   9.  10.]\n"
     ]
    }
   ],
   "source": [
    "#floor_ceil_rint\n",
    "\n",
    "import numpy as np\n",
    "np.set_printoptions(sign = ' ')\n",
    "arr = np.array(input().split(), float)\n",
    "print(np.floor(arr))\n",
    "print(np.ceil(arr))\n",
    "print(np.rint(arr))"
   ]
  },
  {
   "cell_type": "code",
   "execution_count": null,
   "metadata": {},
   "outputs": [],
   "source": [
    "#min_and_max\n",
    "\n",
    "import numpy as np\n",
    "n,m = map(int, input().split())\n",
    "arr = np.array([input().split() for i in range(n)], int)\n",
    "maximum = np.max(np.min(arr, axis = 1))\n",
    "print(maximum)"
   ]
  },
  {
   "cell_type": "code",
   "execution_count": null,
   "metadata": {},
   "outputs": [],
   "source": [
    "#mean_var_std\n",
    "\n",
    "import numpy as np\n",
    "n,m = map(int, input().split())\n",
    "arr = np.array([input().split() for i in range(n)], int)\n",
    "print(np.mean(arr, axis = 1))\n",
    "print(np.var(arr, axis = 0))\n",
    "print(np.around(np.std(arr), decimals = 11))"
   ]
  },
  {
   "cell_type": "code",
   "execution_count": null,
   "metadata": {},
   "outputs": [],
   "source": [
    "#dot_and_cross\n",
    "\n",
    "import numpy as np\n",
    "n = int(input())\n",
    "arr_1 = np.array([input().split() for i in range(n)], int)\n",
    "arr_2 = np.array([input().split() for i in range(n)], int)\n",
    "print(np.dot(arr_1, arr_2))"
   ]
  },
  {
   "cell_type": "code",
   "execution_count": null,
   "metadata": {},
   "outputs": [],
   "source": [
    "#inner_and_outer\n",
    "\n",
    "import numpy as np\n",
    "A = np.array(input().split(), int)\n",
    "B = np.array(input().split(), int)\n",
    "print(np.inner(A, B))\n",
    "print(np.outer(A, B))"
   ]
  },
  {
   "cell_type": "code",
   "execution_count": null,
   "metadata": {},
   "outputs": [],
   "source": [
    "#polynomials\n",
    "\n",
    "import numpy\n",
    "p = list(map(float, input().split()))\n",
    "x = float(input())\n",
    "p = numpy.array(p)\n",
    "print(numpy.polyval(p,x))"
   ]
  },
  {
   "cell_type": "code",
   "execution_count": null,
   "metadata": {},
   "outputs": [],
   "source": [
    "#linear_algebra\n",
    "\n",
    "import numpy\n",
    "p = list(map(float, input().split()))\n",
    "x = float(input())\n",
    "p = numpy.array(p)\n",
    "print(numpy.polyval(p,x))"
   ]
  }
 ],
 "metadata": {
  "kernelspec": {
   "display_name": "Python 3",
   "language": "python",
   "name": "python3"
  },
  "language_info": {
   "codemirror_mode": {
    "name": "ipython",
    "version": 3
   },
   "file_extension": ".py",
   "mimetype": "text/x-python",
   "name": "python",
   "nbconvert_exporter": "python",
   "pygments_lexer": "ipython3",
   "version": "3.8.5"
  }
 },
 "nbformat": 4,
 "nbformat_minor": 4
}
